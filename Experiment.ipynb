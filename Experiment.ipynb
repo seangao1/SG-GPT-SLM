{
 "cells": [
  {
   "cell_type": "code",
   "execution_count": null,
   "metadata": {
    "id": "8zOAsUhIfF73"
   },
   "outputs": [],
   "source": [
    "from google.colab import drive\n",
    "drive.mount('/content/drive')\n"
   ]
  },
  {
   "cell_type": "code",
   "execution_count": null,
   "metadata": {
    "id": "gqAWKAAifVtZ"
   },
   "outputs": [],
   "source": [
    "wdir = '/content/drive/MyDrive/Lord-of-the-Rings-SLM-main'\n",
    "import os\n",
    "os.chdir(wdir)"
   ]
  },
  {
   "cell_type": "code",
   "execution_count": null,
   "metadata": {
    "id": "Zd_KyHvRfAVf"
   },
   "outputs": [],
   "source": [
    "import torch\n",
    "from operator import itemgetter\n",
    "from torch.utils.data import DataLoader\n",
    "import random\n",
    "import numpy as np\n",
    "import math\n",
    "import os\n",
    "\n",
    "\n",
    "\n",
    "\n",
    "from update_utilities import update_utilities_class\n",
    "import pickle"
   ]
  },
  {
   "cell_type": "markdown",
   "metadata": {
    "id": "rsXb4DWNfAVh"
   },
   "source": [
    "# 1 - Data Preparation"
   ]
  },
  {
   "cell_type": "markdown",
   "metadata": {
    "id": "wbMiKQLAfAVi"
   },
   "source": [
    "## 1.1. Examining the Data"
   ]
  },
  {
   "cell_type": "code",
   "execution_count": null,
   "metadata": {
    "id": "XsEhvcjcfAVi"
   },
   "outputs": [],
   "source": [
    "with open('lord-of-the-rings-processed.txt','r',encoding='utf-8') as f:\n",
    "    text = f.read()\n",
    "\n",
    "\n",
    "\n"
   ]
  },
  {
   "cell_type": "code",
   "execution_count": null,
   "metadata": {
    "id": "L1duhSwBfAVi"
   },
   "outputs": [],
   "source": [
    "\n",
    "print(f\"length of the book - {len(text)} characters\")"
   ]
  },
  {
   "cell_type": "code",
   "execution_count": null,
   "metadata": {
    "id": "qvwSZ8_7fAVj"
   },
   "outputs": [],
   "source": [
    "print(text[:100])"
   ]
  },
  {
   "cell_type": "markdown",
   "metadata": {
    "id": "FaYjf7tLfAVj"
   },
   "source": [
    "## 1.2. Format Data"
   ]
  },
  {
   "cell_type": "code",
   "execution_count": null,
   "metadata": {
    "id": "H52jolD5fAVj"
   },
   "outputs": [],
   "source": [
    "chars = sorted(list(set(text)))\n",
    "print(chars)"
   ]
  },
  {
   "cell_type": "code",
   "execution_count": null,
   "metadata": {
    "id": "netmhTAIfAVk"
   },
   "outputs": [],
   "source": [
    "common = r\"0123456789abcdefghijklmnopqrstuvwxyzABCDEFGHIJKLMNOPQRSTUVWXYZ();:.!?-,\"\n",
    "special = list (set(chars) - set(list(common)))\n",
    "print(special)"
   ]
  },
  {
   "cell_type": "code",
   "execution_count": null,
   "metadata": {
    "id": "RhBTZyfSfAVk"
   },
   "outputs": [],
   "source": [
    "special = ['\\n', ' ', '\"', \"'\", '®', '—', '‘', '’', '“', '”']"
   ]
  },
  {
   "cell_type": "code",
   "execution_count": null,
   "metadata": {
    "id": "zIPjYWE7fAVk"
   },
   "outputs": [],
   "source": [
    "text = text.replace(\"\\n\",\" \")\n",
    "text = text.replace(\"  \", \" \")\n",
    "text = text.replace(\"®\", \"u\")"
   ]
  },
  {
   "cell_type": "code",
   "execution_count": null,
   "metadata": {
    "id": "qu7U62prfAVk"
   },
   "outputs": [],
   "source": []
  },
  {
   "cell_type": "code",
   "execution_count": null,
   "metadata": {
    "id": "uwMi6UvvfAVk"
   },
   "outputs": [],
   "source": [
    "special_char = list(itemgetter(*[6,7,8,9])(special))\n",
    "special_char.extend([\",\",\";\",\":\",\"!\",\"?\"])\n",
    "special_char"
   ]
  },
  {
   "cell_type": "code",
   "execution_count": null,
   "metadata": {
    "id": "4NONFH99fAVl"
   },
   "outputs": [],
   "source": [
    "no_space_after = list(itemgetter(*[0,2])(special_char))\n",
    "no_space_after"
   ]
  },
  {
   "cell_type": "code",
   "execution_count": null,
   "metadata": {
    "id": "gCON_O7_fAVl"
   },
   "outputs": [],
   "source": [
    "no_space_before = list(itemgetter(*set(range(len(special_char)))-set([0,2]))(special_char))\n",
    "no_space_before"
   ]
  },
  {
   "cell_type": "code",
   "execution_count": null,
   "metadata": {
    "id": "62Fr24W9fAVl"
   },
   "outputs": [],
   "source": [
    "# replace such as <' sss> to <'sss>\n",
    "for s in no_space_after:\n",
    "    text = text.replace(s+\" \", s)\n",
    "\n",
    "# replace such as <s ,> to <s,>\n",
    "for s in no_space_before:\n",
    "    text = text.replace(\" \"+s,s)\n"
   ]
  },
  {
   "cell_type": "code",
   "execution_count": null,
   "metadata": {
    "id": "cacGJzCUfAVl"
   },
   "outputs": [],
   "source": [
    "# standardize the use of quotation marks\n",
    "text = text.replace('\"',\"'\")\n",
    "text = text.replace('‘',\"'\")\n",
    "text = text.replace('’',\"'\")\n",
    "text = text.replace('“',\"'\")\n",
    "text = text.replace('”',\"'\")"
   ]
  },
  {
   "cell_type": "code",
   "execution_count": null,
   "metadata": {
    "id": "yUfh3RkIfAVl"
   },
   "outputs": [],
   "source": [
    "with open(\"lord-of-the-rings-processed.txt\",\"w\") as f:\n",
    "    f.write(text)"
   ]
  },
  {
   "cell_type": "code",
   "execution_count": null,
   "metadata": {
    "id": "nnMPK9yUfAVl"
   },
   "outputs": [],
   "source": [
    "\n"
   ]
  },
  {
   "cell_type": "markdown",
   "metadata": {
    "id": "SD6v2OqhfAVl"
   },
   "source": [
    "## 1.3. Create Dictionary and Tokenize the Data"
   ]
  },
  {
   "cell_type": "markdown",
   "metadata": {
    "id": "3ZSyRuUIfAVl"
   },
   "source": [
    "**tokenizer**"
   ]
  },
  {
   "cell_type": "code",
   "execution_count": null,
   "metadata": {
    "id": "exfPZ4FLfAVl"
   },
   "outputs": [],
   "source": [
    "chars = sorted(list(set(text)))\n",
    "common = r\"0123456789abcdefghijklmnopqrstuvwxyzABCDEFGHIJKLMNOPQRSTUVWXYZ();:.!?-,\"\n",
    "special = [char for char in chars if char not in list(common)]\n",
    "print(special)"
   ]
  },
  {
   "cell_type": "code",
   "execution_count": null,
   "metadata": {
    "id": "A8lUemfJfAVm"
   },
   "outputs": [],
   "source": [
    "# encode_char = {char:i for i, char in enumerate(chars)}\n",
    "# decode_char = {i:char for i, char in enumerate(chars)}\n",
    "# print(len(encode_char))\n",
    "# vocab_size = len(encode_char)"
   ]
  },
  {
   "cell_type": "code",
   "execution_count": null,
   "metadata": {
    "id": "dff0wcExfAVm"
   },
   "outputs": [],
   "source": [
    "# import pickle\n",
    "\n",
    "# with open('saved_encoder_dict.pkl','wb') as f:\n",
    "#     pickle.dump(encode_char,f)\n",
    "\n",
    "# with open('saved_decoder_dict.pkl','wb') as f:\n",
    "#     pickle.dump(decode_char,f)"
   ]
  },
  {
   "cell_type": "code",
   "execution_count": null,
   "metadata": {
    "id": "CGGuM7hnfAVm"
   },
   "outputs": [],
   "source": [
    "with open('saved_encoder_dict.pkl','rb') as f:\n",
    "    encode_char = pickle.load(f)\n",
    "\n",
    "with open('saved_decoder_dict.pkl','rb') as f:\n",
    "    decode_char = pickle.load(f)\n",
    "\n",
    "print(len(encode_char))\n",
    "vocab_size = len(encode_char)"
   ]
  },
  {
   "cell_type": "code",
   "execution_count": null,
   "metadata": {
    "id": "RyFUy-H0fAVm"
   },
   "outputs": [],
   "source": [
    "encode = lambda string: [encode_char[s] for s in string]\n",
    "decode = lambda nums: ''.join([decode_char[n] for n in nums])"
   ]
  },
  {
   "cell_type": "code",
   "execution_count": null,
   "metadata": {
    "id": "1yqTsZhffAVm"
   },
   "outputs": [],
   "source": [
    "encode(\"This is good\")"
   ]
  },
  {
   "cell_type": "code",
   "execution_count": null,
   "metadata": {
    "id": "CkBwMlNWfAVm"
   },
   "outputs": [],
   "source": [
    "decode([8,20,69,44,27])"
   ]
  },
  {
   "cell_type": "markdown",
   "metadata": {
    "id": "U5rgZcVkfAVm"
   },
   "source": [
    "## 1.4. Load data and construct batches + dataloaders"
   ]
  },
  {
   "cell_type": "markdown",
   "metadata": {
    "id": "pUZQ_Ra2fAVm"
   },
   "source": [
    "**take percentage of text from each book as validation data**"
   ]
  },
  {
   "cell_type": "code",
   "execution_count": null,
   "metadata": {
    "id": "R2ahLe4NfAVm"
   },
   "outputs": [],
   "source": [
    "# update_utilities_class(file_name=\"general_functions.py\",current_path=os.getcwd()).run()\n"
   ]
  },
  {
   "cell_type": "code",
   "execution_count": null,
   "metadata": {
    "id": "Zrr4p75zfAVm"
   },
   "outputs": [],
   "source": [
    "from general_functions import HelperFunctionsClass\n",
    "h = HelperFunctionsClass()"
   ]
  },
  {
   "cell_type": "code",
   "execution_count": null,
   "metadata": {
    "id": "VlN-aOSyfAVn"
   },
   "outputs": [],
   "source": [
    "book1_train, book1_val, end_idx = h.train_test_split(text=text,ending=\"and an end was come for the Eldar of story and of song.\",ratio=0.85,starting_idx=0)"
   ]
  },
  {
   "cell_type": "code",
   "execution_count": null,
   "metadata": {
    "id": "K3kDBhT6fAVn"
   },
   "outputs": [],
   "source": [
    "book2_train, book2_val, end_idx = h.train_test_split(text=text, ending=\"and handed him the tobacco-jar.\",ratio=0.85,starting_idx=end_idx)"
   ]
  },
  {
   "cell_type": "code",
   "execution_count": null,
   "metadata": {
    "id": "ihkKTYTyfAVn"
   },
   "outputs": [],
   "source": [
    "book3_train, book3_val, end_idx = h.train_test_split(text=text, ending=\"THE RETURN OF THE KING.\",ratio=0.85,starting_idx=end_idx)"
   ]
  },
  {
   "cell_type": "code",
   "execution_count": null,
   "metadata": {
    "id": "R4-xv2UrfAVn"
   },
   "outputs": [],
   "source": [
    "book4_train, book4_val, end_idx = h.train_test_split(text=text, ending=\"was alive but taken by the Enemy.\",ratio=0.85,starting_idx=end_idx)"
   ]
  },
  {
   "cell_type": "code",
   "execution_count": null,
   "metadata": {
    "id": "UnJNHtP9fAVn"
   },
   "outputs": [],
   "source": [
    "\n",
    "\n",
    "book5_train, book5_val, end_idx2 = h.train_test_split(text=text, ending=\"I'm back,' he said.\",ratio=0.85,starting_idx=end_idx)"
   ]
  },
  {
   "cell_type": "code",
   "execution_count": null,
   "metadata": {
    "id": "pwnoP3TsfAVn"
   },
   "outputs": [],
   "source": [
    "train_data =  book3_train + book4_train + book5_train + book2_train + book1_train\n",
    "val_data = book3_val + book4_val + book5_val + book2_val + book1_val"
   ]
  },
  {
   "cell_type": "code",
   "execution_count": null,
   "metadata": {
    "id": "qv2d8vdRfAVn"
   },
   "outputs": [],
   "source": [
    "len(train_data + val_data)"
   ]
  },
  {
   "cell_type": "code",
   "execution_count": null,
   "metadata": {
    "id": "l1c5NZOQfAVt"
   },
   "outputs": [],
   "source": []
  },
  {
   "cell_type": "code",
   "execution_count": null,
   "metadata": {
    "id": "dad3WRY8fAVt"
   },
   "outputs": [],
   "source": [
    "train_data2 = torch.tensor(encode(train_data))\n",
    "val_data2 = torch.tensor(encode(val_data))"
   ]
  },
  {
   "cell_type": "code",
   "execution_count": null,
   "metadata": {
    "id": "5tGKBNNUfAVu"
   },
   "outputs": [],
   "source": [
    "len(train_data2), len(val_data2)"
   ]
  },
  {
   "cell_type": "markdown",
   "metadata": {
    "id": "4u6OGtmYfAVu"
   },
   "source": [
    "**dataset and dataloader**"
   ]
  },
  {
   "cell_type": "code",
   "execution_count": null,
   "metadata": {
    "id": "uG-c5MVbfAVu"
   },
   "outputs": [],
   "source": [
    "# update_utilities_class(file_name=\"custom_text_dataset.py\",current_path=os.getcwd()).run()"
   ]
  },
  {
   "cell_type": "code",
   "execution_count": null,
   "metadata": {
    "id": "vITwN0qwfAVu"
   },
   "outputs": [],
   "source": [
    "from custom_text_dataset import slideTokenizedTextDataset"
   ]
  },
  {
   "cell_type": "code",
   "execution_count": null,
   "metadata": {
    "id": "lEjAtYRpfAVu"
   },
   "outputs": [],
   "source": [
    "block_size = 512\n",
    "\n",
    "train_dataset = slideTokenizedTextDataset(full_txt = train_data2,\n",
    "                                                 block_size = block_size)\n",
    "\n",
    "val_dataset = slideTokenizedTextDataset(full_txt = val_data2,\n",
    "                                               block_size = block_size)"
   ]
  },
  {
   "cell_type": "code",
   "execution_count": null,
   "metadata": {
    "id": "1WCg8_VHfAVu"
   },
   "outputs": [],
   "source": [
    "len(train_dataset), len(val_dataset)"
   ]
  },
  {
   "cell_type": "code",
   "execution_count": null,
   "metadata": {
    "id": "aZh3Y28ZfAVu"
   },
   "outputs": [],
   "source": [
    "batch_size = 64\n",
    "train_num_samples = 500000\n",
    "train_sampler = torch.utils.data.RandomSampler(train_dataset,replacement=False,)\n",
    "                                               #num_samples=train_num_samples)\n",
    "train_dataloader = DataLoader(dataset=train_dataset,batch_size=batch_size,drop_last=True,sampler=train_sampler)"
   ]
  },
  {
   "cell_type": "code",
   "execution_count": null,
   "metadata": {
    "id": "_RA0UQatfAVu"
   },
   "outputs": [],
   "source": [
    "val_num_samples = 100000\n",
    "val_sampler = torch.utils.data.RandomSampler(val_dataset,replacement=False,)\n",
    "                                             # num_samples=val_num_samples)\n",
    "val_dataloader = DataLoader(dataset=val_dataset,batch_size=batch_size,sampler=val_sampler,drop_last=True)"
   ]
  },
  {
   "cell_type": "code",
   "execution_count": null,
   "metadata": {
    "id": "zQ66C8C-fAVv"
   },
   "outputs": [],
   "source": [
    "len(train_dataloader), len(val_dataloader)"
   ]
  },
  {
   "cell_type": "markdown",
   "metadata": {
    "id": "CxEN00H4fAVv"
   },
   "source": [
    "# 2 - Model definition"
   ]
  },
  {
   "cell_type": "code",
   "execution_count": null,
   "metadata": {
    "id": "wQhcNeHlfAVv"
   },
   "outputs": [],
   "source": [
    "# update_utilities_class(file_name=\"Transformer.py\",current_path=os.getcwd()).run()"
   ]
  },
  {
   "cell_type": "code",
   "execution_count": null,
   "metadata": {
    "id": "LibxeGdNfAVv"
   },
   "outputs": [],
   "source": [
    "device = 'cuda' if torch.cuda.is_available() else 'cpu'\n",
    "device"
   ]
  },
  {
   "cell_type": "code",
   "execution_count": null,
   "metadata": {
    "id": "RMrManz2fAVv"
   },
   "outputs": [],
   "source": [
    "import Transformer\n",
    "transformer = Transformer.TransformerClass(vocab_size=vocab_size,emb_dim=512,n_layer=8,num_heads=8,block_size=block_size,\n",
    "                               dropout_rate_attention=0.1,dropout_rate_ff=0.2,dropout_rate_pos_enc=0.1,\n",
    "                               is_decoder = True, ff_multiplier = 4).to(device)\n"
   ]
  },
  {
   "cell_type": "code",
   "execution_count": null,
   "metadata": {
    "id": "dg-c17safAVv"
   },
   "outputs": [],
   "source": [
    "print(round(sum(p.numel() for p in transformer.parameters())/1e6,2), 'M parameters')"
   ]
  },
  {
   "cell_type": "code",
   "execution_count": null,
   "metadata": {
    "id": "PUmU9FW5fAVv"
   },
   "outputs": [],
   "source": [
    "os.chdir(wdir)\n",
    "transformer.load_state_dict(torch.load(\"base_line_GPT stats/base_line_GPT_SG - Training Information.txt\", weights_only = False))"
   ]
  },
  {
   "cell_type": "code",
   "execution_count": null,
   "metadata": {
    "id": "VKIgxsYSfAVv"
   },
   "outputs": [],
   "source": [
    "# update_utilities_class(file_name=\"loss_functions.py\",current_path=os.getcwd()).run()"
   ]
  },
  {
   "cell_type": "code",
   "execution_count": null,
   "metadata": {
    "id": "aGJfNGEafAVv"
   },
   "outputs": [],
   "source": [
    "# update_utilities_class(file_name=\"train_test_loop.py\",current_path=os.getcwd()).run()"
   ]
  },
  {
   "cell_type": "code",
   "execution_count": null,
   "metadata": {
    "id": "IMvmdskdfAVv"
   },
   "outputs": [],
   "source": [
    "from train_test_loop import train_test_loop_class\n",
    "optimizer = torch.optim.AdamW(transformer.parameters(),lr=1e-5)\n",
    "overwrite=False\n",
    "\n",
    "train_loop = train_test_loop_class(model=transformer,train_loader=train_dataloader,val_loader=val_dataloader,test_loader=None, epochs=1,\n",
    "                                   print_every_n_batch=99999999999,\n",
    "                                   device=device,model_name=\"base_line_GPT_SG\",optimizer=optimizer,calculate_accuracy=False,overwrite_message=overwrite, problem_type = \"Multiclass Classification\",\n",
    "                                   update_loss_fn=False, print_result = True, print_full = False, lr_rate_tuning=False,clip_batch=False,clip_batch_size=20,lr_start=-5,lr_end=-2)"
   ]
  },
  {
   "cell_type": "code",
   "execution_count": null,
   "metadata": {
    "id": "c2VbMA1tkHYu"
   },
   "outputs": [],
   "source": [
    "!PYTORCH_CUDA_ALLOC_CONF=expandable_segments:True"
   ]
  },
  {
   "cell_type": "code",
   "execution_count": null,
   "metadata": {
    "colab": {
     "base_uri": "https://localhost:8080/",
     "height": 156,
     "referenced_widgets": [
      "86a8e61e64824b72bbc8d529b2e634b4",
      "5d39b481c08348d6b183da74e5875251",
      "a27b2ad256e44ac9a0da33abfddcc4dc",
      "08a15db6dd9845de8ae4b12912014e0d",
      "4d13c1d06a1f433da45bfb6f3c06cc38",
      "fcbf87ca2b3241359262afb46c89bff4",
      "7c3f713573ac4b8d860f4d1757beb071",
      "43740d75c24a4534901feee585308eb8",
      "e0ec6d8ce8a5434c9f70624b5cc3f51d",
      "dba576eed0784450846571d725e5a032",
      "4ec39fa9fd1d4fccb8293817d3754073"
     ]
    },
    "executionInfo": {
     "elapsed": 20487473,
     "status": "ok",
     "timestamp": 1742291606176,
     "user": {
      "displayName": "Guo SS 的野爹 “Guo SS的野爹”",
      "userId": "02963737422131159242"
     },
     "user_tz": 240
    },
    "id": "aLAO4JaPfAVv",
    "outputId": "f8ecec4c-d50c-459b-9c93-bbb7b4e2650d"
   },
   "outputs": [],
   "source": [
    "\n",
    "train_loop.train()\n"
   ]
  },
  {
   "cell_type": "code",
   "execution_count": null,
   "metadata": {
    "id": "8tV6H3l4fAVv"
   },
   "outputs": [],
   "source": [
    "# train_loop.overwrite_message = False\n",
    "# optimizer = torch.optim.AdamW(transformer.parameters(),lr=5e-6)\n",
    "# train_loop.optimizer = optimizer"
   ]
  },
  {
   "cell_type": "code",
   "execution_count": null,
   "metadata": {
    "id": "Dngl_B5DfAVv"
   },
   "outputs": [],
   "source": [
    "# refresh the sampling\n",
    "train_loop.train_loader = train_dataloader\n",
    "train_loop.val_loader = val_dataloader"
   ]
  },
  {
   "cell_type": "code",
   "execution_count": null,
   "metadata": {
    "id": "NHsEdUkufAVw"
   },
   "outputs": [],
   "source": [
    "\n",
    "\n"
   ]
  },
  {
   "cell_type": "code",
   "execution_count": null,
   "metadata": {
    "id": "76euyHS4W6Xu"
   },
   "outputs": [],
   "source": []
  }
 ],
 "metadata": {
  "accelerator": "GPU",
  "colab": {
   "gpuType": "A100",
   "provenance": []
  },
  "kernelspec": {
   "display_name": "base",
   "language": "python",
   "name": "python3"
  },
  "language_info": {
   "codemirror_mode": {
    "name": "ipython",
    "version": 3
   },
   "file_extension": ".py",
   "mimetype": "text/x-python",
   "name": "python",
   "nbconvert_exporter": "python",
   "pygments_lexer": "ipython3",
   "version": "3.8.8"
  },
  "widgets": {
   "application/vnd.jupyter.widget-state+json": {
    "08a15db6dd9845de8ae4b12912014e0d": {
     "model_module": "@jupyter-widgets/controls",
     "model_module_version": "1.5.0",
     "model_name": "HTMLModel",
     "state": {
      "_dom_classes": [],
      "_model_module": "@jupyter-widgets/controls",
      "_model_module_version": "1.5.0",
      "_model_name": "HTMLModel",
      "_view_count": null,
      "_view_module": "@jupyter-widgets/controls",
      "_view_module_version": "1.5.0",
      "_view_name": "HTMLView",
      "description": "",
      "description_tooltip": null,
      "layout": "IPY_MODEL_dba576eed0784450846571d725e5a032",
      "placeholder": "​",
      "style": "IPY_MODEL_4ec39fa9fd1d4fccb8293817d3754073",
      "value": " 49524/49524 [7:37:56&lt;00:00, 417.93s/it]"
     }
    },
    "43740d75c24a4534901feee585308eb8": {
     "model_module": "@jupyter-widgets/base",
     "model_module_version": "1.2.0",
     "model_name": "LayoutModel",
     "state": {
      "_model_module": "@jupyter-widgets/base",
      "_model_module_version": "1.2.0",
      "_model_name": "LayoutModel",
      "_view_count": null,
      "_view_module": "@jupyter-widgets/base",
      "_view_module_version": "1.2.0",
      "_view_name": "LayoutView",
      "align_content": null,
      "align_items": null,
      "align_self": null,
      "border": null,
      "bottom": null,
      "display": null,
      "flex": null,
      "flex_flow": null,
      "grid_area": null,
      "grid_auto_columns": null,
      "grid_auto_flow": null,
      "grid_auto_rows": null,
      "grid_column": null,
      "grid_gap": null,
      "grid_row": null,
      "grid_template_areas": null,
      "grid_template_columns": null,
      "grid_template_rows": null,
      "height": null,
      "justify_content": null,
      "justify_items": null,
      "left": null,
      "margin": null,
      "max_height": null,
      "max_width": null,
      "min_height": null,
      "min_width": null,
      "object_fit": null,
      "object_position": null,
      "order": null,
      "overflow": null,
      "overflow_x": null,
      "overflow_y": null,
      "padding": null,
      "right": null,
      "top": null,
      "visibility": null,
      "width": null
     }
    },
    "4d13c1d06a1f433da45bfb6f3c06cc38": {
     "model_module": "@jupyter-widgets/base",
     "model_module_version": "1.2.0",
     "model_name": "LayoutModel",
     "state": {
      "_model_module": "@jupyter-widgets/base",
      "_model_module_version": "1.2.0",
      "_model_name": "LayoutModel",
      "_view_count": null,
      "_view_module": "@jupyter-widgets/base",
      "_view_module_version": "1.2.0",
      "_view_name": "LayoutView",
      "align_content": null,
      "align_items": null,
      "align_self": null,
      "border": null,
      "bottom": null,
      "display": null,
      "flex": null,
      "flex_flow": null,
      "grid_area": null,
      "grid_auto_columns": null,
      "grid_auto_flow": null,
      "grid_auto_rows": null,
      "grid_column": null,
      "grid_gap": null,
      "grid_row": null,
      "grid_template_areas": null,
      "grid_template_columns": null,
      "grid_template_rows": null,
      "height": null,
      "justify_content": null,
      "justify_items": null,
      "left": null,
      "margin": null,
      "max_height": null,
      "max_width": null,
      "min_height": null,
      "min_width": null,
      "object_fit": null,
      "object_position": null,
      "order": null,
      "overflow": null,
      "overflow_x": null,
      "overflow_y": null,
      "padding": null,
      "right": null,
      "top": null,
      "visibility": null,
      "width": null
     }
    },
    "4ec39fa9fd1d4fccb8293817d3754073": {
     "model_module": "@jupyter-widgets/controls",
     "model_module_version": "1.5.0",
     "model_name": "DescriptionStyleModel",
     "state": {
      "_model_module": "@jupyter-widgets/controls",
      "_model_module_version": "1.5.0",
      "_model_name": "DescriptionStyleModel",
      "_view_count": null,
      "_view_module": "@jupyter-widgets/base",
      "_view_module_version": "1.2.0",
      "_view_name": "StyleView",
      "description_width": ""
     }
    },
    "5d39b481c08348d6b183da74e5875251": {
     "model_module": "@jupyter-widgets/controls",
     "model_module_version": "1.5.0",
     "model_name": "HTMLModel",
     "state": {
      "_dom_classes": [],
      "_model_module": "@jupyter-widgets/controls",
      "_model_module_version": "1.5.0",
      "_model_name": "HTMLModel",
      "_view_count": null,
      "_view_module": "@jupyter-widgets/controls",
      "_view_module_version": "1.5.0",
      "_view_name": "HTMLView",
      "description": "",
      "description_tooltip": null,
      "layout": "IPY_MODEL_fcbf87ca2b3241359262afb46c89bff4",
      "placeholder": "​",
      "style": "IPY_MODEL_7c3f713573ac4b8d860f4d1757beb071",
      "value": "100%"
     }
    },
    "7c3f713573ac4b8d860f4d1757beb071": {
     "model_module": "@jupyter-widgets/controls",
     "model_module_version": "1.5.0",
     "model_name": "DescriptionStyleModel",
     "state": {
      "_model_module": "@jupyter-widgets/controls",
      "_model_module_version": "1.5.0",
      "_model_name": "DescriptionStyleModel",
      "_view_count": null,
      "_view_module": "@jupyter-widgets/base",
      "_view_module_version": "1.2.0",
      "_view_name": "StyleView",
      "description_width": ""
     }
    },
    "86a8e61e64824b72bbc8d529b2e634b4": {
     "model_module": "@jupyter-widgets/controls",
     "model_module_version": "1.5.0",
     "model_name": "HBoxModel",
     "state": {
      "_dom_classes": [],
      "_model_module": "@jupyter-widgets/controls",
      "_model_module_version": "1.5.0",
      "_model_name": "HBoxModel",
      "_view_count": null,
      "_view_module": "@jupyter-widgets/controls",
      "_view_module_version": "1.5.0",
      "_view_name": "HBoxView",
      "box_style": "",
      "children": [
       "IPY_MODEL_5d39b481c08348d6b183da74e5875251",
       "IPY_MODEL_a27b2ad256e44ac9a0da33abfddcc4dc",
       "IPY_MODEL_08a15db6dd9845de8ae4b12912014e0d"
      ],
      "layout": "IPY_MODEL_4d13c1d06a1f433da45bfb6f3c06cc38"
     }
    },
    "a27b2ad256e44ac9a0da33abfddcc4dc": {
     "model_module": "@jupyter-widgets/controls",
     "model_module_version": "1.5.0",
     "model_name": "FloatProgressModel",
     "state": {
      "_dom_classes": [],
      "_model_module": "@jupyter-widgets/controls",
      "_model_module_version": "1.5.0",
      "_model_name": "FloatProgressModel",
      "_view_count": null,
      "_view_module": "@jupyter-widgets/controls",
      "_view_module_version": "1.5.0",
      "_view_name": "ProgressView",
      "bar_style": "success",
      "description": "",
      "description_tooltip": null,
      "layout": "IPY_MODEL_43740d75c24a4534901feee585308eb8",
      "max": 49524,
      "min": 0,
      "orientation": "horizontal",
      "style": "IPY_MODEL_e0ec6d8ce8a5434c9f70624b5cc3f51d",
      "value": 49524
     }
    },
    "dba576eed0784450846571d725e5a032": {
     "model_module": "@jupyter-widgets/base",
     "model_module_version": "1.2.0",
     "model_name": "LayoutModel",
     "state": {
      "_model_module": "@jupyter-widgets/base",
      "_model_module_version": "1.2.0",
      "_model_name": "LayoutModel",
      "_view_count": null,
      "_view_module": "@jupyter-widgets/base",
      "_view_module_version": "1.2.0",
      "_view_name": "LayoutView",
      "align_content": null,
      "align_items": null,
      "align_self": null,
      "border": null,
      "bottom": null,
      "display": null,
      "flex": null,
      "flex_flow": null,
      "grid_area": null,
      "grid_auto_columns": null,
      "grid_auto_flow": null,
      "grid_auto_rows": null,
      "grid_column": null,
      "grid_gap": null,
      "grid_row": null,
      "grid_template_areas": null,
      "grid_template_columns": null,
      "grid_template_rows": null,
      "height": null,
      "justify_content": null,
      "justify_items": null,
      "left": null,
      "margin": null,
      "max_height": null,
      "max_width": null,
      "min_height": null,
      "min_width": null,
      "object_fit": null,
      "object_position": null,
      "order": null,
      "overflow": null,
      "overflow_x": null,
      "overflow_y": null,
      "padding": null,
      "right": null,
      "top": null,
      "visibility": null,
      "width": null
     }
    },
    "e0ec6d8ce8a5434c9f70624b5cc3f51d": {
     "model_module": "@jupyter-widgets/controls",
     "model_module_version": "1.5.0",
     "model_name": "ProgressStyleModel",
     "state": {
      "_model_module": "@jupyter-widgets/controls",
      "_model_module_version": "1.5.0",
      "_model_name": "ProgressStyleModel",
      "_view_count": null,
      "_view_module": "@jupyter-widgets/base",
      "_view_module_version": "1.2.0",
      "_view_name": "StyleView",
      "bar_color": null,
      "description_width": ""
     }
    },
    "fcbf87ca2b3241359262afb46c89bff4": {
     "model_module": "@jupyter-widgets/base",
     "model_module_version": "1.2.0",
     "model_name": "LayoutModel",
     "state": {
      "_model_module": "@jupyter-widgets/base",
      "_model_module_version": "1.2.0",
      "_model_name": "LayoutModel",
      "_view_count": null,
      "_view_module": "@jupyter-widgets/base",
      "_view_module_version": "1.2.0",
      "_view_name": "LayoutView",
      "align_content": null,
      "align_items": null,
      "align_self": null,
      "border": null,
      "bottom": null,
      "display": null,
      "flex": null,
      "flex_flow": null,
      "grid_area": null,
      "grid_auto_columns": null,
      "grid_auto_flow": null,
      "grid_auto_rows": null,
      "grid_column": null,
      "grid_gap": null,
      "grid_row": null,
      "grid_template_areas": null,
      "grid_template_columns": null,
      "grid_template_rows": null,
      "height": null,
      "justify_content": null,
      "justify_items": null,
      "left": null,
      "margin": null,
      "max_height": null,
      "max_width": null,
      "min_height": null,
      "min_width": null,
      "object_fit": null,
      "object_position": null,
      "order": null,
      "overflow": null,
      "overflow_x": null,
      "overflow_y": null,
      "padding": null,
      "right": null,
      "top": null,
      "visibility": null,
      "width": null
     }
    }
   }
  }
 },
 "nbformat": 4,
 "nbformat_minor": 0
}
